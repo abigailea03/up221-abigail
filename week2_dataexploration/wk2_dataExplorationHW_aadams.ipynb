{
 "cells": [
  {
   "cell_type": "markdown",
   "id": "18f3d3d9-bdc9-4bf6-8fb0-e16e10db5123",
   "metadata": {},
   "source": [
    "# Week 2 Data Exploration\n",
    "## Abigail Adams\n",
    "The purpose of this assignment is to work with [GIS data](https://geohub.lacity.org). "
   ]
  },
  {
   "cell_type": "code",
   "execution_count": 1,
   "id": "fdd6cb57-d25c-4c61-affc-241ea4ba038b",
   "metadata": {},
   "outputs": [
    {
     "name": "stdout",
     "output_type": "stream",
     "text": [
      "upload to Github\n"
     ]
    }
   ],
   "source": [
    "# printing demonstration to upload notebook to Github\n",
    "print('upload to Github')"
   ]
  },
  {
   "cell_type": "code",
   "execution_count": 2,
   "id": "38f6ac79-9500-4a1a-8f29-d3f6517c6e44",
   "metadata": {},
   "outputs": [
    {
     "name": "stdout",
     "output_type": "stream",
     "text": [
      "use terminal to push to github\n"
     ]
    }
   ],
   "source": [
    "print('use terminal to push to github')"
   ]
  },
  {
   "cell_type": "code",
   "execution_count": null,
   "id": "dd20d48a-7d4a-4bb6-a845-76caf7aea6ef",
   "metadata": {},
   "outputs": [],
   "source": []
  }
 ],
 "metadata": {
  "kernelspec": {
   "display_name": "Python 3 (ipykernel)",
   "language": "python",
   "name": "python3"
  },
  "language_info": {
   "codemirror_mode": {
    "name": "ipython",
    "version": 3
   },
   "file_extension": ".py",
   "mimetype": "text/x-python",
   "name": "python",
   "nbconvert_exporter": "python",
   "pygments_lexer": "ipython3",
   "version": "3.11.9"
  }
 },
 "nbformat": 4,
 "nbformat_minor": 5
}
