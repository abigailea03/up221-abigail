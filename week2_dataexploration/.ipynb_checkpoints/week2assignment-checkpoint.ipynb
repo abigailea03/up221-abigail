{
 "cells": [
  {
   "cell_type": "markdown",
   "id": "7e668773-8f20-4440-9ead-ff6ed93e0684",
   "metadata": {},
   "source": [
    "# Week 2 Data Exploration Assignment\n",
    "## Abigail Adams\n",
    "I will be conducting data exploration on the 'Homelessness Count by Age' dataset. This data gives information on the number of people experiencing homelessness in each county in California per year, seperated by age group. The data shows counts from 2017 to 2024."
   ]
  },
  {
   "cell_type": "markdown",
   "id": "10563db6-62c7-4086-aeb4-5db9404de182",
   "metadata": {},
   "source": [
    "### 1.) Import Packages \n",
    "First, I am importing the 'pandas' and 'geopandas' packages because I will use them to explore this data. I am saving pandas as 'pd' and geopandas as 'gpd' to simplify the commands I run. "
   ]
  },
  {
   "cell_type": "code",
   "execution_count": 3,
   "id": "f14295c8-5774-43f6-8bbd-92bd57617e88",
   "metadata": {},
   "outputs": [],
   "source": [
    "# import the packages needed for this assignment\n",
    "import pandas as pd\n",
    "import geopandas as gpd"
   ]
  },
  {
   "cell_type": "markdown",
   "id": "a0f8a001-dc14-49f4-8b65-7aedf5b91e3b",
   "metadata": {},
   "source": [
    "### 2.) Import Data\n",
    "Next, I am importing the data that I will be using. I am telling python to: \n",
    "*  ca = name this file 'ca' \n",
    "*  pd. = use the pandas package\n",
    "*  read_csv() = call in the .csv file \n",
    "* \"data_wk2/ca_homelessnessCount_byAge.csv\" = the file is located in the 'data_wk2' folder and titled \"ca_homelessnessCount_byAge.csv\"\n",
    "\n",
    "Together, this command reads as: use the pandas package to call in a csv file that lives in a folder called 'data_wk2' and is named 'ca_homelessnessCount_byAge.csv'"
   ]
  },
  {
   "cell_type": "code",
   "execution_count": 4,
   "id": "562993c5-d7ee-465c-949b-8f4a6c9b47a7",
   "metadata": {
    "scrolled": true
   },
   "outputs": [],
   "source": [
    "# import the dataset I am exploring \n",
    "ca = pd.read_csv(\"data_wk2/ca_homelessnessCount_byAge.csv\")"
   ]
  },
  {
   "cell_type": "markdown",
   "id": "913afe7e-0466-4ea4-b596-bc621a64b86e",
   "metadata": {},
   "source": [
    "### 3.) Check for Successful Import / Look at Columns\n",
    "Now, I will check to see if the data was sucessfully imported. To do this, I will print the data using:\n",
    "\n",
    "* print(data.head())\n",
    "\n",
    "With this function, I am telling Python to print the headers of my 'ca' data. This produces the header name of each column and the first 5 rows of data. The **.head()** function allows me to check if my data was sucessfully imported because the command will not run if the data was not imported correctly. While I could do this with just the **print()** function, using **.head()** minimizes the space used in the notebook. "
   ]
  },
  {
   "cell_type": "code",
   "execution_count": 4,
   "id": "4e7e1e37-6538-4298-8156-72ef5d1cd08b",
   "metadata": {},
   "outputs": [
    {
     "name": "stdout",
     "output_type": "stream",
     "text": [
      "   _id  CALENDAR_YEAR LOCATION_ID    LOCATION AGE_GROUP_PUBLIC  \\\n",
      "0    1           2017         All  California            18-24   \n",
      "1    2           2017         All  California            25-34   \n",
      "2    3           2017         All  California            35-44   \n",
      "3    4           2017         All  California            45-54   \n",
      "4    5           2017         All  California            55-64   \n",
      "\n",
      "  EXPERIENCING_HOMELESSNESS_CNT  \n",
      "0                         16281  \n",
      "1                         27977  \n",
      "2                         25195  \n",
      "3                         26820  \n",
      "4                         23401  \n"
     ]
    }
   ],
   "source": [
    "# make sure the data is imported\n",
    "# also see the column names\n",
    "print(ca.head())"
   ]
  },
  {
   "cell_type": "markdown",
   "id": "f32f9714-8b53-40cb-bb39-68271551eb18",
   "metadata": {},
   "source": [
    "The output of this code tells us that the dataframe has 6 columns. The column names are: _id, CALENDAR_YEAR, LOCATION_ID, AGE_GROUP_PUBLIC, and EXPERIENCING_HOMELESSNESS_CNT.  \n",
    "\n",
    "The column names tell us what kind of information the dataframe is collecting. For instance, without any background information from the dataframe's source, we cna infer that 'CALENDAR_YEAR' tells us which year the homelessness count was conducted. "
   ]
  },
  {
   "cell_type": "markdown",
   "id": "be40535b-3655-4985-9a93-9f1f85bfe64b",
   "metadata": {},
   "source": [
    "### 4.) Data Dimensions \n",
    "After successfully importing my data, I will be using the **'.shape'** function to get the dimensions of the dataframe. The output will tell me how many rows and columns the dataframe has, formatted as (row, column). This is important because it gives me insights about the size of the dataframe and an idea of how many variables there are."
   ]
  },
  {
   "cell_type": "code",
   "execution_count": 6,
   "id": "00e53d3d-296d-47f7-845b-06d2e1eeb910",
   "metadata": {
    "scrolled": true
   },
   "outputs": [
    {
     "data": {
      "text/plain": [
       "(2976, 6)"
      ]
     },
     "execution_count": 6,
     "metadata": {},
     "output_type": "execute_result"
    }
   ],
   "source": [
    "# look at the dimensions of the dataframe\n",
    "ca.shape"
   ]
  },
  {
   "cell_type": "markdown",
   "id": "2e9eac8e-8b3d-4409-8b99-da7cc8496144",
   "metadata": {},
   "source": [
    "The data frame has 2976 rows and 6 columns."
   ]
  },
  {
   "cell_type": "markdown",
   "id": "f9f3b0eb-0dfa-40b2-95fb-7390b7339dc3",
   "metadata": {},
   "source": [
    "### 5.) Info\n",
    "To look deeper in the dataframe's values, I will be using the **.info** function. This will print the first and last 5 rows of the dataframe."
   ]
  },
  {
   "cell_type": "code",
   "execution_count": 8,
   "id": "5cab28a2-e73f-4f91-b49e-cc7b1affc2e2",
   "metadata": {
    "scrolled": true
   },
   "outputs": [
    {
     "data": {
      "text/plain": [
       "<bound method DataFrame.info of        _id  CALENDAR_YEAR LOCATION_ID                    LOCATION  \\\n",
       "0        1           2017         All                  California   \n",
       "1        2           2017         All                  California   \n",
       "2        3           2017         All                  California   \n",
       "3        4           2017         All                  California   \n",
       "4        5           2017         All                  California   \n",
       "...    ...            ...         ...                         ...   \n",
       "2971  2972           2024      CA-614  San Luis Obispo County CoC   \n",
       "2972  2973           2024      CA-614  San Luis Obispo County CoC   \n",
       "2973  2974           2024      CA-614  San Luis Obispo County CoC   \n",
       "2974  2975           2024      CA-614  San Luis Obispo County CoC   \n",
       "2975  2976           2024      CA-614  San Luis Obispo County CoC   \n",
       "\n",
       "     AGE_GROUP_PUBLIC EXPERIENCING_HOMELESSNESS_CNT  \n",
       "0               18-24                         16281  \n",
       "1               25-34                         27977  \n",
       "2               35-44                         25195  \n",
       "3               45-54                         26820  \n",
       "4               55-64                         23401  \n",
       "...               ...                           ...  \n",
       "2971            45-54                           389  \n",
       "2972            55-64                           329  \n",
       "2973              65+                           177  \n",
       "2974         Under 18                           626  \n",
       "2975          Unknown                             *  \n",
       "\n",
       "[2976 rows x 6 columns]>"
      ]
     },
     "execution_count": 8,
     "metadata": {},
     "output_type": "execute_result"
    }
   ],
   "source": [
    "# print information about the dataframe\n",
    "ca.info"
   ]
  },
  {
   "cell_type": "markdown",
   "id": "9d0cde72-6443-4c1f-96f2-1d78778597a6",
   "metadata": {},
   "source": [
    "The first 5 rows give information about the statewide count per age group while the last 5 rows give information about counts in the San Luis Obispo County Coc (Continuim of Care). From this output, we know the count was conducted from 2017 to 2024, as seen in the 'CALENDAR_YEAR' column. "
   ]
  },
  {
   "cell_type": "markdown",
   "id": "9a4fab18-f320-4afb-8e14-45a4a4adbf16",
   "metadata": {},
   "source": [
    "### 6.)Value Counts \n",
    "Now, I will be looking into some of the variables to see how many responses each of them have. To do this, I will use the functon: \n",
    "* .value_counts()\n",
    "\n",
    "While I could run **.value_counts** on the entire dataframe, that output would likely give a lot of information at once by showing how many times each value appears for over 2700 rows. Instead, I will exploring the 'LOCATION' variable, which tells us which location the homelessness count was recorded. This could be either California as a whole or in an individual county in California. "
   ]
  },
  {
   "cell_type": "code",
   "execution_count": 13,
   "id": "9adc1e97-76ad-4a6c-856a-56aa4eece868",
   "metadata": {
    "scrolled": true
   },
   "outputs": [
    {
     "data": {
      "text/plain": [
       "LOCATION\n",
       "California                                                                 72\n",
       "Santa Barbara County CoC                                                   72\n",
       "San Francisco CoC                                                          71\n",
       "Sacramento County CoC                                                      71\n",
       "Alameda County CoC                                                         71\n",
       "Los Angeles County CoC                                                     71\n",
       "San Diego County CoC                                                       71\n",
       "Fresno, Madera Counties CoC                                                71\n",
       "Ventura County CoC                                                         71\n",
       "Monterey, San Benito Counties CoC                                          71\n",
       "San Joaquin County CoC                                                     70\n",
       "Shasta, Siskiyou, Lassen, Plumas, Del Norte, Modoc, Sierra Counties CoC    70\n",
       "Humboldt County CoC                                                        70\n",
       "Imperial County CoC                                                        69\n",
       "Orange County CoC                                                          69\n",
       "Riverside County CoC                                                       69\n",
       "San Bernardino County CoC                                                  68\n",
       "Santa Clara County CoC                                                     68\n",
       "San Mateo County CoC                                                       68\n",
       "Placer County CoC                                                          67\n",
       "Santa Cruz County CoC                                                      67\n",
       "San Luis Obispo County CoC                                                 67\n",
       "Tehama County CoC                                                          66\n",
       "Colusa, Glenn, Trinity Counties CoC                                        66\n",
       "Solano County CoC                                                          66\n",
       "Mendocino County CoC                                                       66\n",
       "Long Beach CoC (Los Angeles County)                                        66\n",
       "Nevada County CoC                                                          65\n",
       "Contra Costa County CoC                                                    65\n",
       "Merced County CoC                                                          65\n",
       "Kern County CoC                                                            65\n",
       "Sonoma County CoC                                                          64\n",
       "Marin County CoC                                                           64\n",
       "Stanislaus County CoC                                                      64\n",
       "Pasadena CoC (Los Angeles County)                                          64\n",
       "Napa County CoC                                                            64\n",
       "Butte County CoC                                                           64\n",
       "Kings, Tulare Counties CoC                                                 61\n",
       "Glendale CoC (Los Angeles County)                                          61\n",
       "El Dorado County CoC                                                       61\n",
       "Yolo County CoC                                                            60\n",
       "Lake County CoC                                                            59\n",
       "Amador, Calaveras, Mariposa, Tuolumne Counties CoC                         57\n",
       "Alpine, Inyo, Mono Counties CoC                                            57\n",
       "Yuba, Sutter Counties CoC                                                  52\n",
       "Name: count, dtype: int64"
      ]
     },
     "execution_count": 13,
     "metadata": {},
     "output_type": "execute_result"
    }
   ],
   "source": [
    "# show count of each response in the 'location' variable\n",
    "ca['LOCATION'].value_counts()"
   ]
  },
  {
   "cell_type": "markdown",
   "id": "689fa05f-1917-4d52-b13d-92d89abc4ee6",
   "metadata": {},
   "source": [
    "This output shows how many counts there were per county in the entire dataframe. These counts are high because for each year, there are 7 age ranges that are counted. If we multiply 7 potential counts x 8 years of surveyed, the number of occurances per location makes sense.  "
   ]
  },
  {
   "cell_type": "markdown",
   "id": "7e4a10fa-a842-4e63-b72f-afe9d1aa9300",
   "metadata": {},
   "source": [
    "### 6.) Filtering\n",
    "Now, I will be filtering the dataframe to look at a subset of the data. I only want to see counts from 2023 and in the Riverside County CoC. So, I will filter for these values using: \n",
    "* .query()\n",
    "* EXAMPLE: example_data.query('variable == value') This tells python to go into the dataframe and ony show rows that have the variable response I want\n",
    "\n",
    "Because I am filtering for two variables, I will be using the '&' operator. This tells python to only show me rows that are both in the Riverside County CoC and in the year 2023. I am naming this object 'ca2023_riverside'"
   ]
  },
  {
   "cell_type": "code",
   "execution_count": 5,
   "id": "ead0ea78-4201-433a-a1f0-f3345774345c",
   "metadata": {},
   "outputs": [
    {
     "data": {
      "text/plain": [
       "<bound method NDFrame.sample of        _id  CALENDAR_YEAR LOCATION_ID              LOCATION AGE_GROUP_PUBLIC  \\\n",
       "2568  2569           2023      CA-608  Riverside County CoC            18-24   \n",
       "2569  2570           2023      CA-608  Riverside County CoC            25-34   \n",
       "2570  2571           2023      CA-608  Riverside County CoC            35-44   \n",
       "2571  2572           2023      CA-608  Riverside County CoC            45-54   \n",
       "2572  2573           2023      CA-608  Riverside County CoC            55-64   \n",
       "2573  2574           2023      CA-608  Riverside County CoC              65+   \n",
       "2574  2575           2023      CA-608  Riverside County CoC          Invalid   \n",
       "2575  2576           2023      CA-608  Riverside County CoC         Under 18   \n",
       "2576  2577           2023      CA-608  Riverside County CoC          Unknown   \n",
       "\n",
       "     EXPERIENCING_HOMELESSNESS_CNT  \n",
       "2568                           816  \n",
       "2569                          2280  \n",
       "2570                          2291  \n",
       "2571                          1726  \n",
       "2572                          1610  \n",
       "2573                           788  \n",
       "2574                             *  \n",
       "2575                          3007  \n",
       "2576                           165  >"
      ]
     },
     "execution_count": 5,
     "metadata": {},
     "output_type": "execute_result"
    }
   ],
   "source": [
    "# filter for only \"Riverside County CoC\" and counts in 2023 \n",
    "ca2023_riverside = ca.query(\"CALENDAR_YEAR == 2023 & LOCATION == 'Riverside County CoC'\")\n",
    "\n",
    "\n",
    "# check dimensions of ca_homelessnessCount_byAge\n",
    "ca2023_riverside.shape\n",
    "\n",
    "# print ca2023_riverside\n",
    "ca2023_riverside.sample"
   ]
  },
  {
   "cell_type": "markdown",
   "id": "af8ffa5f-6cb5-4e6b-854b-a37a75d0f44e",
   "metadata": {},
   "source": [
    "The output shows me that there were 9 counts per age group done in Riverside County in 2023. The age count with the highest count of individuals experiencing homelessness is 'Under 18', or children, at 3007 individuals. There are two age group categories that represent missing or unknown ages of individuals, which are 'Invalid' and 'Unknown', respectively. "
   ]
  },
  {
   "cell_type": "markdown",
   "id": "eb41f5ac-aea2-445b-92b4-8cf550d16513",
   "metadata": {},
   "source": [
    "### 7.) Plotting\n",
    "Here, I will make a bar graph that shows the counts of people experiencing homelessness per age group in the Riverside County Coc.\n",
    "\n",
    "#### a.) Data type\n",
    "First, I will look at the type of values in each column to see which type of visualization would be best suited. "
   ]
  },
  {
   "cell_type": "code",
   "execution_count": 15,
   "id": "7aac1c90-cac2-4db8-88c9-e686d43e2272",
   "metadata": {},
   "outputs": [
    {
     "data": {
      "text/plain": [
       "_id                               int64\n",
       "CALENDAR_YEAR                     int64\n",
       "LOCATION_ID                      object\n",
       "LOCATION                         object\n",
       "AGE_GROUP_PUBLIC                 object\n",
       "EXPERIENCING_HOMELESSNESS_CNT    object\n",
       "dtype: object"
      ]
     },
     "execution_count": 15,
     "metadata": {},
     "output_type": "execute_result"
    }
   ],
   "source": [
    "# look at data types\n",
    "ca2023_riverside.dtypes"
   ]
  },
  {
   "cell_type": "markdown",
   "id": "416d0a70-7b36-4253-9998-a927afbf693c",
   "metadata": {},
   "source": [
    "This output shows us that there is a mix of data types in our dataframe. Both '_id' and 'CALENDAR-YEAR' hvae integer values, which means the values are whole nunmbers without fractions or decimals. This makes sense because the '_id' column lists the number of counts conducted and the 'CALENDAR_YEAR' column lists the year in which the count was conducted, both of which should be whole numbers. \n",
    "\n",
    "'LOCATION_ID', 'LOCATION', 'AGE_GROUP_PUBLIC', and 'EXPERIENCING_HOMELESSNESS_CNT' are all objects, which means the values are text or a mix of numbers and text. This makes sense becasue all of the values contain a mix of numeric values and text. \n",
    "\n",
    "While it seems like 'EXPERIENCING_HOMELESSNESS_CNT' should hvae integer values, we can see from our data sample that the count in the 'Invalid' age range is *, which is not a numeric value and changes the data type for the whole column. "
   ]
  },
  {
   "cell_type": "markdown",
   "id": "b4c20a21-e95a-40d1-bb7f-acad43f60781",
   "metadata": {},
   "source": [
    "#### b.) Change Data Type to Numeric \n",
    "In order to graph 'EXPERIENCING_HOMELESSNESS_CNT' on a bar chart, the data needs to be numeric. To change the data type, I would need to remove the '*' value for the 'Invalid' age group category. To do this, I will start by making a copy of the dataframe I am working with to ensure I do not alter the original.\n",
    "\n",
    "Then, I will replace the '*' value with NaN, which means Not a Number, if it cannot be replaced with a number. I also tell python to drop all Nan values from dataframe to prevent Python from givng me an error code from not plotting nueric data. Basically, I am telling python to:\n",
    "* Go within the 'ca2023_riverside_int' data frame, -> ca2023_riverside_int\n",
    "  \n",
    "* Go into the 'EXPERIENCING_HOMELESSNESS_CNT' variable -> ['EXPERIENCING_HOMELESSNESS_CNT']\n",
    "\n",
    "* Change the data type of 'EXPERIENCING_HOMELESSNESS_CNT' to numeric (integers) -> pd.to_numeric(ca2023_riverside_int['EXPERIENCING_HOMELESSNESS_CNT']\n",
    "\n",
    "* Do this by converting values of '*' into integers -> replace('*', pd.NA)\n",
    "\n",
    "  \n",
    "* If the values cannot be converted into integers, replace them with NaN - > errors='coerce'\n",
    "  "
   ]
  },
  {
   "cell_type": "code",
   "execution_count": 21,
   "id": "5ed0485a-a57a-421a-8e35-17d8bb1fad32",
   "metadata": {},
   "outputs": [],
   "source": [
    "# make a copy of dataframe to  make edits\n",
    "ca2023_riverside_int = ca2023_riverside.copy()\n",
    "\n",
    "# replace string value (*) to NaN and convert data type to int \n",
    "ca2023_riverside_int['EXPERIENCING_HOMELESSNESS_CNT'] = pd.to_numeric(\n",
    "    ca2023_riverside_int['EXPERIENCING_HOMELESSNESS_CNT'].replace('*', pd.NA), errors='coerce'\n",
    ")"
   ]
  },
  {
   "cell_type": "markdown",
   "id": "d27a98e0-3cd1-46f5-bed2-98574ed978e9",
   "metadata": {},
   "source": [
    "#### c.) Drop NaN value\n",
    "Now, I am going to drop the Nan value from the dataframe so that it will be coded as numeric and able to be plotted on a bar graph. "
   ]
  },
  {
   "cell_type": "code",
   "execution_count": null,
   "id": "934ec6cb-6b79-46f2-bd1b-36af3caca5f2",
   "metadata": {},
   "outputs": [],
   "source": [
    "# Drop NaN value\n",
    "ca2023_riverside_int_trimmed = ca2023_riverside_int.dropna(subset=['EXPERIENCING_HOMELESSNESS_CNT'])"
   ]
  },
  {
   "cell_type": "markdown",
   "id": "949f55dd-3f9e-4cfe-891e-329f2e467e45",
   "metadata": {},
   "source": [
    "#### d.) Rename Columns\n",
    "Before we graph, I am going to rename the columns to make easier the read on the graph. "
   ]
  },
  {
   "cell_type": "code",
   "execution_count": 28,
   "id": "4a99590e-5b64-45b7-91f4-926d82575cd1",
   "metadata": {},
   "outputs": [],
   "source": [
    "# rename columns used in graph, homenessless count and age group \n",
    "ca2023_riverside_int_trimmed1 = ca2023_riverside_int_trimmed.rename(columns={\n",
    "    'AGE_GROUP_PUBLIC': 'Age Group',\n",
    "    'EXPERIENCING_HOMELESSNESS_CNT': 'Homelessness Count'\n",
    "})"
   ]
  },
  {
   "cell_type": "markdown",
   "id": "9d4af7ae-3d8e-46af-af70-75f84cea320e",
   "metadata": {},
   "source": [
    "#### e.) Plot (FINALLY!)\n",
    "Now, I am going to plot the data as a bar chart using .plot. "
   ]
  },
  {
   "cell_type": "code",
   "execution_count": 30,
   "id": "9b1b611e-4f69-46e7-908c-a7a392d0e0ab",
   "metadata": {},
   "outputs": [
    {
     "data": {
      "text/plain": [
       "<Axes: title={'center': 'Homelessness Count by Age Group in Riverside County 2023'}, xlabel='Age Group'>"
      ]
     },
     "execution_count": 30,
     "metadata": {},
     "output_type": "execute_result"
    },
    {
     "data": {
      "image/png": "[encoded data removed]",
      "text/plain": [
       "<Figure size 640x480 with 1 Axes>"
      ]
     },
     "metadata": {},
     "output_type": "display_data"
    }
   ],
   "source": [
    "# create bar graph\n",
    "ca2023_riverside_int_trimmed1.plot(\n",
    "    x='Age Group', # use this variable on x axis \n",
    "    y='Homelessness Count', # use this variable on y axis\n",
    "    kind='bar', # make a bar chart\n",
    "    title='Homelessness Count by Age Group in Riverside County 2023', # add a title\n",
    "    color='green' # make bars green\n",
    ")"
   ]
  }
 ],
 "metadata": {
  "kernelspec": {
   "display_name": "Python 3 (ipykernel)",
   "language": "python",
   "name": "python3"
  },
  "language_info": {
   "codemirror_mode": {
    "name": "ipython",
    "version": 3
   },
   "file_extension": ".py",
   "mimetype": "text/x-python",
   "name": "python",
   "nbconvert_exporter": "python",
   "pygments_lexer": "ipython3",
   "version": "3.11.9"
  }
 },
 "nbformat": 4,
 "nbformat_minor": 5
}
