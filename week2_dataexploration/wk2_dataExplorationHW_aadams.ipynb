{
 "cells": [
  {
   "cell_type": "markdown",
   "id": "18f3d3d9-bdc9-4bf6-8fb0-e16e10db5123",
   "metadata": {},
   "source": [
    "# Week 2 Data Exploration\n",
    "## Abigail Adams\n",
    "The purpose of this assignment is to work with [GIS data](https://geohub.lacity.org). "
   ]
  },
  {
   "cell_type": "code",
   "execution_count": 1,
   "id": "fdd6cb57-d25c-4c61-affc-241ea4ba038b",
   "metadata": {},
   "outputs": [
    {
     "name": "stdout",
     "output_type": "stream",
     "text": [
      "upload to Github\n"
     ]
    }
   ],
   "source": [
    "# printing demonstration to upload notebook to Github\n",
    "print('upload to Github')"
   ]
  }
 ],
 "metadata": {
  "kernelspec": {
   "display_name": "Python 3 (ipykernel)",
   "language": "python",
   "name": "python3"
  },
  "language_info": {
   "codemirror_mode": {
    "name": "ipython",
    "version": 3
   },
   "file_extension": ".py",
   "mimetype": "text/x-python",
   "name": "python",
   "nbconvert_exporter": "python",
   "pygments_lexer": "ipython3",
   "version": "3.11.9"
  }
 },
 "nbformat": 4,
 "nbformat_minor": 5
}
